{
  "nbformat": 4,
  "nbformat_minor": 0,
  "metadata": {
    "colab": {
      "provenance": []
    },
    "kernelspec": {
      "name": "python3",
      "display_name": "Python 3"
    },
    "language_info": {
      "name": "python"
    }
  },
  "cells": [
    {
      "cell_type": "code",
      "execution_count": null,
      "metadata": {
        "id": "F95tjQ5KoE-a"
      },
      "outputs": [],
      "source": []
    },
    {
      "cell_type": "markdown",
      "source": [
        "#Condicional"
      ],
      "metadata": {
        "id": "fRpGO7wQor9m"
      }
    },
    {
      "cell_type": "code",
      "source": [
        "# If\n",
        "if 5 < 10:\n",
        "  print(\"verdade\")"
      ],
      "metadata": {
        "colab": {
          "base_uri": "https://localhost:8080/"
        },
        "id": "RVqy_hn5ou0X",
        "outputId": "3295dd95-14ce-42c9-9f58-7e320d609d4a"
      },
      "execution_count": null,
      "outputs": [
        {
          "output_type": "stream",
          "name": "stdout",
          "text": [
            "verdade\n"
          ]
        }
      ]
    },
    {
      "cell_type": "code",
      "source": [
        "# If/else\n",
        "num1 = 10\n",
        "num2 = 5\n",
        "if num1 > num2:\n",
        "  print(\"O num1 é o maior número\")\n",
        "else:\n",
        "  print(\"O num2 é o maior número\")"
      ],
      "metadata": {
        "colab": {
          "base_uri": "https://localhost:8080/"
        },
        "id": "u7hBgzuKpEMH",
        "outputId": "b83286cd-810f-415d-d6f1-7aafbedbed6b"
      },
      "execution_count": null,
      "outputs": [
        {
          "output_type": "stream",
          "name": "stdout",
          "text": [
            "O num1 é o maior número\n"
          ]
        }
      ]
    },
    {
      "cell_type": "code",
      "source": [
        "# If / Elif / Else\n",
        "num1 = 10\n",
        "num2 = 10\n",
        "if num1 > num2:\n",
        "  print(\"O num1 é o maior número\")\n",
        "elif num1 < num2:\n",
        "  print(\"O num2 é o maior número\")\n",
        "else:\n",
        "  print(\"Os dois são iguais\")"
      ],
      "metadata": {
        "colab": {
          "base_uri": "https://localhost:8080/"
        },
        "id": "YeL63DWTphSX",
        "outputId": "6fb68118-c505-462e-f06a-43537464b4ae"
      },
      "execution_count": null,
      "outputs": [
        {
          "output_type": "stream",
          "name": "stdout",
          "text": [
            "Os dois são iguais\n"
          ]
        }
      ]
    },
    {
      "cell_type": "markdown",
      "source": [
        "#Condicional com Operadores Lógicos"
      ],
      "metadata": {
        "id": "kHrDfo-uqgFl"
      }
    },
    {
      "cell_type": "code",
      "source": [
        "num1 = 10\n",
        "num2 = 5\n",
        "num3 = 2\n",
        "if (num1 > num2) and (num1 > num3):\n",
        "  print(\"O num1 é o maior número\")\n",
        "else:\n",
        "  print(\"O num1 não é o maior número\")"
      ],
      "metadata": {
        "colab": {
          "base_uri": "https://localhost:8080/"
        },
        "id": "wAjXd1qPqe2H",
        "outputId": "3723547e-27a6-4221-e311-815de50473f6"
      },
      "execution_count": null,
      "outputs": [
        {
          "output_type": "stream",
          "name": "stdout",
          "text": [
            "O num1 é o maior número\n"
          ]
        }
      ]
    },
    {
      "cell_type": "code",
      "source": [
        "x = 3\n",
        "y = 7\n",
        "z = 5\n",
        "\n",
        "if(x > y) or (x > z):\n",
        "  print(\"X é o maior número\")\n",
        "else:\n",
        "  print(\"y e z são os maiores\")"
      ],
      "metadata": {
        "colab": {
          "base_uri": "https://localhost:8080/"
        },
        "id": "5dSQ1qwSrW4c",
        "outputId": "8db15337-6f20-43c1-f76c-0d319a1bd47c"
      },
      "execution_count": null,
      "outputs": [
        {
          "output_type": "stream",
          "name": "stdout",
          "text": [
            "y e z são os maiores\n"
          ]
        }
      ]
    },
    {
      "cell_type": "markdown",
      "source": [
        "# Calculador IMC"
      ],
      "metadata": {
        "id": "zUyTcAXYuAND"
      }
    },
    {
      "cell_type": "code",
      "source": [
        "peso = float(input(\"Digite seu peso (em kg):\"))\n",
        "print(peso)\n",
        "altura = float(input(\"Digite sua altura(em metros):\"))\n",
        "print(altura)\n",
        "\n",
        "imc = peso / (altura ** 2)\n",
        "\n",
        "if imc < 18.5:\n",
        "  classificacao = \"Abaixo do peso\"\n",
        "elif 18.5 <= imc < 25:\n",
        "  classificacao = \"Peso normal\"\n",
        "elif 25 <= imc < 30:\n",
        "  classificacao = \"Sobrepeso\"\n",
        "elif 30 <= imc < 35:\n",
        "  classificacao = \"Obesidade grau 1\"\n",
        "elif 35 <= imc < 40:\n",
        "  classificacao = \"Obesidade grau 2\"\n",
        "else:\n",
        "  classificacao = \"Obesidade grau 3\"\n",
        "\n",
        "print(f\"Seu IMC é {imc:.2f} e você está na categoria: {classificacao}\")\n",
        "\n",
        "\n",
        "\n"
      ],
      "metadata": {
        "colab": {
          "base_uri": "https://localhost:8080/"
        },
        "collapsed": true,
        "id": "5nSjZtymuDDV",
        "outputId": "1bb4266d-342e-4f7f-8da2-dcf115ec6109"
      },
      "execution_count": null,
      "outputs": [
        {
          "output_type": "stream",
          "name": "stdout",
          "text": [
            "Digite seu peso (em kg):71\n",
            "71.0\n",
            "Digite sua altura(em metros):1.91\n",
            "1.91\n",
            "Seu IMC é 19.46 e você está na categoria: Peso normal\n"
          ]
        }
      ]
    }
  ]
}